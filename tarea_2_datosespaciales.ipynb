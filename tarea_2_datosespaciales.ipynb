{
 "cells": [
  {
   "cell_type": "code",
   "execution_count": 39,
   "id": "ad68f19b",
   "metadata": {},
   "outputs": [],
   "source": [
    "#TAREA 2 DATOS ESPACIALES\n",
    "#ALUMNO: JUAN DIEGO POZO ORTIZ\n",
    "#CÓDIGO: 20210679"
   ]
  },
  {
   "cell_type": "code",
   "execution_count": 20,
   "id": "9e06f153",
   "metadata": {},
   "outputs": [
    {
     "name": "stdout",
     "output_type": "stream",
     "text": [
      "Collecting folium\n",
      "  Using cached folium-0.14.0-py2.py3-none-any.whl (102 kB)\n",
      "Requirement already satisfied: matplotlib in c:\\users\\lenovo\\anaconda3\\envs\\nuevoambiente\\lib\\site-packages (3.8.0)\n",
      "Collecting mapclassify\n",
      "  Downloading mapclassify-2.6.1-py3-none-any.whl.metadata (2.6 kB)\n",
      "Collecting branca>=0.6.0 (from folium)\n",
      "  Using cached branca-0.6.0-py3-none-any.whl (24 kB)\n",
      "Requirement already satisfied: jinja2>=2.9 in c:\\users\\lenovo\\anaconda3\\envs\\nuevoambiente\\lib\\site-packages (from folium) (3.1.2)\n",
      "Requirement already satisfied: numpy in c:\\users\\lenovo\\anaconda3\\envs\\nuevoambiente\\lib\\site-packages (from folium) (1.26.1)\n",
      "Requirement already satisfied: requests in c:\\users\\lenovo\\anaconda3\\envs\\nuevoambiente\\lib\\site-packages (from folium) (2.31.0)\n",
      "Requirement already satisfied: contourpy>=1.0.1 in c:\\users\\lenovo\\anaconda3\\envs\\nuevoambiente\\lib\\site-packages (from matplotlib) (1.1.1)\n",
      "Requirement already satisfied: cycler>=0.10 in c:\\users\\lenovo\\anaconda3\\envs\\nuevoambiente\\lib\\site-packages (from matplotlib) (0.12.1)\n",
      "Requirement already satisfied: fonttools>=4.22.0 in c:\\users\\lenovo\\anaconda3\\envs\\nuevoambiente\\lib\\site-packages (from matplotlib) (4.43.1)\n",
      "Requirement already satisfied: kiwisolver>=1.0.1 in c:\\users\\lenovo\\anaconda3\\envs\\nuevoambiente\\lib\\site-packages (from matplotlib) (1.4.5)\n",
      "Requirement already satisfied: packaging>=20.0 in c:\\users\\lenovo\\anaconda3\\envs\\nuevoambiente\\lib\\site-packages (from matplotlib) (23.1)\n",
      "Requirement already satisfied: pillow>=6.2.0 in c:\\users\\lenovo\\anaconda3\\envs\\nuevoambiente\\lib\\site-packages (from matplotlib) (10.1.0)\n",
      "Requirement already satisfied: pyparsing>=2.3.1 in c:\\users\\lenovo\\anaconda3\\envs\\nuevoambiente\\lib\\site-packages (from matplotlib) (3.1.1)\n",
      "Requirement already satisfied: python-dateutil>=2.7 in c:\\users\\lenovo\\anaconda3\\envs\\nuevoambiente\\lib\\site-packages (from matplotlib) (2.8.2)\n",
      "Collecting networkx>=2.7 (from mapclassify)\n",
      "  Downloading networkx-3.2.1-py3-none-any.whl.metadata (5.2 kB)\n",
      "Requirement already satisfied: pandas!=1.5.0,>=1.4 in c:\\users\\lenovo\\anaconda3\\envs\\nuevoambiente\\lib\\site-packages (from mapclassify) (2.1.2)\n",
      "Collecting scikit-learn>=1.0 (from mapclassify)\n",
      "  Downloading scikit_learn-1.3.2-cp311-cp311-win_amd64.whl.metadata (11 kB)\n",
      "Collecting scipy>=1.8 (from mapclassify)\n",
      "  Downloading scipy-1.11.3-cp311-cp311-win_amd64.whl.metadata (60 kB)\n",
      "     ---------------------------------------- 0.0/60.4 kB ? eta -:--:--\n",
      "     --------------------------------- ------ 51.2/60.4 kB 2.6 MB/s eta 0:00:01\n",
      "     ---------------------------------------- 60.4/60.4 kB 1.6 MB/s eta 0:00:00\n",
      "Requirement already satisfied: MarkupSafe>=2.0 in c:\\users\\lenovo\\anaconda3\\envs\\nuevoambiente\\lib\\site-packages (from jinja2>=2.9->folium) (2.1.1)\n",
      "Requirement already satisfied: pytz>=2020.1 in c:\\users\\lenovo\\anaconda3\\envs\\nuevoambiente\\lib\\site-packages (from pandas!=1.5.0,>=1.4->mapclassify) (2023.3.post1)\n",
      "Requirement already satisfied: tzdata>=2022.1 in c:\\users\\lenovo\\anaconda3\\envs\\nuevoambiente\\lib\\site-packages (from pandas!=1.5.0,>=1.4->mapclassify) (2023.3)\n",
      "Requirement already satisfied: six>=1.5 in c:\\users\\lenovo\\anaconda3\\envs\\nuevoambiente\\lib\\site-packages (from python-dateutil>=2.7->matplotlib) (1.16.0)\n",
      "Collecting joblib>=1.1.1 (from scikit-learn>=1.0->mapclassify)\n",
      "  Downloading joblib-1.3.2-py3-none-any.whl.metadata (5.4 kB)\n",
      "Collecting threadpoolctl>=2.0.0 (from scikit-learn>=1.0->mapclassify)\n",
      "  Downloading threadpoolctl-3.2.0-py3-none-any.whl.metadata (10.0 kB)\n",
      "Requirement already satisfied: charset-normalizer<4,>=2 in c:\\users\\lenovo\\anaconda3\\envs\\nuevoambiente\\lib\\site-packages (from requests->folium) (2.0.4)\n",
      "Requirement already satisfied: idna<4,>=2.5 in c:\\users\\lenovo\\anaconda3\\envs\\nuevoambiente\\lib\\site-packages (from requests->folium) (3.4)\n",
      "Requirement already satisfied: urllib3<3,>=1.21.1 in c:\\users\\lenovo\\anaconda3\\envs\\nuevoambiente\\lib\\site-packages (from requests->folium) (1.26.18)\n",
      "Requirement already satisfied: certifi>=2017.4.17 in c:\\users\\lenovo\\anaconda3\\envs\\nuevoambiente\\lib\\site-packages (from requests->folium) (2023.7.22)\n",
      "Downloading mapclassify-2.6.1-py3-none-any.whl (38 kB)\n",
      "Downloading networkx-3.2.1-py3-none-any.whl (1.6 MB)\n",
      "   ---------------------------------------- 0.0/1.6 MB ? eta -:--:--\n",
      "   ----------------- ---------------------- 0.7/1.6 MB 22.5 MB/s eta 0:00:01\n",
      "   ------------------------------------- -- 1.5/1.6 MB 19.7 MB/s eta 0:00:01\n",
      "   ---------------------------------------- 1.6/1.6 MB 15.0 MB/s eta 0:00:00\n",
      "Downloading scikit_learn-1.3.2-cp311-cp311-win_amd64.whl (9.2 MB)\n",
      "   ---------------------------------------- 0.0/9.2 MB ? eta -:--:--\n",
      "   - -------------------------------------- 0.3/9.2 MB 10.2 MB/s eta 0:00:01\n",
      "   -- ------------------------------------- 0.5/9.2 MB 6.6 MB/s eta 0:00:02\n",
      "   --- ------------------------------------ 0.7/9.2 MB 5.7 MB/s eta 0:00:02\n",
      "   --- ------------------------------------ 0.8/9.2 MB 4.7 MB/s eta 0:00:02\n",
      "   ---- ----------------------------------- 1.0/9.2 MB 4.4 MB/s eta 0:00:02\n",
      "   ----- ---------------------------------- 1.2/9.2 MB 4.5 MB/s eta 0:00:02\n",
      "   ----- ---------------------------------- 1.3/9.2 MB 4.0 MB/s eta 0:00:02\n",
      "   ------ --------------------------------- 1.5/9.2 MB 4.1 MB/s eta 0:00:02\n",
      "   ------- -------------------------------- 1.6/9.2 MB 4.0 MB/s eta 0:00:02\n",
      "   ------- -------------------------------- 1.8/9.2 MB 3.8 MB/s eta 0:00:02\n",
      "   -------- ------------------------------- 2.0/9.2 MB 3.9 MB/s eta 0:00:02\n",
      "   ---------- ----------------------------- 2.5/9.2 MB 4.4 MB/s eta 0:00:02\n",
      "   ------------ --------------------------- 2.8/9.2 MB 4.7 MB/s eta 0:00:02\n",
      "   ------------ --------------------------- 2.9/9.2 MB 4.6 MB/s eta 0:00:02\n",
      "   ------------- -------------------------- 3.1/9.2 MB 4.4 MB/s eta 0:00:02\n",
      "   -------------- ------------------------- 3.3/9.2 MB 4.4 MB/s eta 0:00:02\n",
      "   --------------- ------------------------ 3.6/9.2 MB 4.6 MB/s eta 0:00:02\n",
      "   ----------------- ---------------------- 4.0/9.2 MB 4.7 MB/s eta 0:00:02\n",
      "   ------------------ --------------------- 4.3/9.2 MB 4.8 MB/s eta 0:00:02\n",
      "   ------------------- -------------------- 4.4/9.2 MB 4.8 MB/s eta 0:00:01\n",
      "   ------------------- -------------------- 4.6/9.2 MB 4.7 MB/s eta 0:00:01\n",
      "   -------------------- ------------------- 4.8/9.2 MB 4.6 MB/s eta 0:00:01\n",
      "   --------------------- ------------------ 4.9/9.2 MB 4.6 MB/s eta 0:00:01\n",
      "   --------------------- ------------------ 5.1/9.2 MB 4.5 MB/s eta 0:00:01\n",
      "   ----------------------- ---------------- 5.3/9.2 MB 4.5 MB/s eta 0:00:01\n",
      "   ----------------------- ---------------- 5.5/9.2 MB 4.4 MB/s eta 0:00:01\n",
      "   ------------------------ --------------- 5.6/9.2 MB 4.4 MB/s eta 0:00:01\n",
      "   ------------------------ --------------- 5.7/9.2 MB 4.3 MB/s eta 0:00:01\n",
      "   ------------------------- -------------- 5.9/9.2 MB 4.3 MB/s eta 0:00:01\n",
      "   ------------------------- -------------- 5.9/9.2 MB 4.2 MB/s eta 0:00:01\n",
      "   -------------------------- ------------- 6.1/9.2 MB 4.2 MB/s eta 0:00:01\n",
      "   -------------------------- ------------- 6.1/9.2 MB 4.0 MB/s eta 0:00:01\n",
      "   --------------------------- ------------ 6.4/9.2 MB 4.1 MB/s eta 0:00:01\n",
      "   ---------------------------- ----------- 6.6/9.2 MB 4.1 MB/s eta 0:00:01\n",
      "   ----------------------------- ---------- 6.8/9.2 MB 4.1 MB/s eta 0:00:01\n",
      "   ------------------------------ --------- 7.0/9.2 MB 4.1 MB/s eta 0:00:01\n",
      "   ------------------------------- -------- 7.2/9.2 MB 4.1 MB/s eta 0:00:01\n",
      "   -------------------------------- ------- 7.4/9.2 MB 4.1 MB/s eta 0:00:01\n",
      "   --------------------------------- ------ 7.8/9.2 MB 4.2 MB/s eta 0:00:01\n",
      "   ---------------------------------- ----- 8.0/9.2 MB 4.3 MB/s eta 0:00:01\n",
      "   ------------------------------------ --- 8.3/9.2 MB 4.3 MB/s eta 0:00:01\n",
      "   ------------------------------------ --- 8.5/9.2 MB 4.3 MB/s eta 0:00:01\n",
      "   -------------------------------------- - 8.8/9.2 MB 4.3 MB/s eta 0:00:01\n",
      "   ---------------------------------------  9.2/9.2 MB 4.4 MB/s eta 0:00:01\n",
      "   ---------------------------------------- 9.2/9.2 MB 4.3 MB/s eta 0:00:00\n",
      "Downloading scipy-1.11.3-cp311-cp311-win_amd64.whl (44.1 MB)\n",
      "   ---------------------------------------- 0.0/44.1 MB ? eta -:--:--\n",
      "   ---------------------------------------- 0.3/44.1 MB 9.3 MB/s eta 0:00:05\n",
      "   ---------------------------------------- 0.5/44.1 MB 6.5 MB/s eta 0:00:07\n",
      "    --------------------------------------- 0.7/44.1 MB 5.5 MB/s eta 0:00:08\n",
      "    --------------------------------------- 0.9/44.1 MB 4.7 MB/s eta 0:00:10\n",
      "    --------------------------------------- 1.1/44.1 MB 5.0 MB/s eta 0:00:09\n",
      "   - -------------------------------------- 1.3/44.1 MB 4.7 MB/s eta 0:00:10\n",
      "   - -------------------------------------- 1.7/44.1 MB 5.2 MB/s eta 0:00:09\n",
      "   - -------------------------------------- 2.0/44.1 MB 5.4 MB/s eta 0:00:08\n",
      "   -- ------------------------------------- 2.4/44.1 MB 5.8 MB/s eta 0:00:08\n",
      "   -- ------------------------------------- 2.8/44.1 MB 5.9 MB/s eta 0:00:07\n",
      "   -- ------------------------------------- 3.1/44.1 MB 6.0 MB/s eta 0:00:07\n",
      "   --- ------------------------------------ 3.4/44.1 MB 6.0 MB/s eta 0:00:07\n",
      "   --- ------------------------------------ 3.8/44.1 MB 6.2 MB/s eta 0:00:07\n",
      "   --- ------------------------------------ 4.1/44.1 MB 6.4 MB/s eta 0:00:07\n",
      "   ---- ----------------------------------- 4.5/44.1 MB 6.3 MB/s eta 0:00:07\n",
      "   ---- ----------------------------------- 4.8/44.1 MB 6.4 MB/s eta 0:00:07\n",
      "   ---- ----------------------------------- 5.1/44.1 MB 6.4 MB/s eta 0:00:07\n",
      "   ---- ----------------------------------- 5.5/44.1 MB 6.5 MB/s eta 0:00:06\n",
      "   ----- ---------------------------------- 5.7/44.1 MB 6.4 MB/s eta 0:00:07\n",
      "   ----- ---------------------------------- 5.8/44.1 MB 6.2 MB/s eta 0:00:07\n",
      "   ----- ---------------------------------- 6.0/44.1 MB 6.1 MB/s eta 0:00:07\n",
      "   ----- ---------------------------------- 6.5/44.1 MB 6.3 MB/s eta 0:00:07\n",
      "   ------ --------------------------------- 6.9/44.1 MB 6.4 MB/s eta 0:00:06\n",
      "   ------ --------------------------------- 7.4/44.1 MB 6.6 MB/s eta 0:00:06\n",
      "   ------- -------------------------------- 7.9/44.1 MB 6.8 MB/s eta 0:00:06\n",
      "   ------- -------------------------------- 8.5/44.1 MB 6.9 MB/s eta 0:00:06\n",
      "   ------- -------------------------------- 8.8/44.1 MB 6.8 MB/s eta 0:00:06\n",
      "   -------- ------------------------------- 9.0/44.1 MB 6.8 MB/s eta 0:00:06\n",
      "   -------- ------------------------------- 9.3/44.1 MB 6.8 MB/s eta 0:00:06\n",
      "   -------- ------------------------------- 9.5/44.1 MB 6.8 MB/s eta 0:00:06\n",
      "   -------- ------------------------------- 9.8/44.1 MB 6.7 MB/s eta 0:00:06\n",
      "   --------- ------------------------------ 10.0/44.1 MB 6.6 MB/s eta 0:00:06\n",
      "   --------- ------------------------------ 10.3/44.1 MB 6.6 MB/s eta 0:00:06\n",
      "   --------- ------------------------------ 10.5/44.1 MB 6.4 MB/s eta 0:00:06\n",
      "   --------- ------------------------------ 10.7/44.1 MB 6.5 MB/s eta 0:00:06\n",
      "   --------- ------------------------------ 10.9/44.1 MB 6.5 MB/s eta 0:00:06\n",
      "   ---------- ----------------------------- 11.2/44.1 MB 6.5 MB/s eta 0:00:06\n",
      "   ---------- ----------------------------- 11.5/44.1 MB 6.7 MB/s eta 0:00:05\n",
      "   ---------- ----------------------------- 11.8/44.1 MB 6.7 MB/s eta 0:00:05\n",
      "   ---------- ----------------------------- 12.0/44.1 MB 6.5 MB/s eta 0:00:05\n",
      "   ---------- ----------------------------- 12.1/44.1 MB 6.4 MB/s eta 0:00:05\n",
      "   ----------- ---------------------------- 12.3/44.1 MB 6.4 MB/s eta 0:00:06\n",
      "   ----------- ---------------------------- 12.4/44.1 MB 6.2 MB/s eta 0:00:06\n",
      "   ----------- ---------------------------- 12.7/44.1 MB 6.2 MB/s eta 0:00:06\n",
      "   ----------- ---------------------------- 13.1/44.1 MB 6.2 MB/s eta 0:00:06\n",
      "   ------------ --------------------------- 13.3/44.1 MB 6.1 MB/s eta 0:00:06\n",
      "   ------------ --------------------------- 13.5/44.1 MB 6.1 MB/s eta 0:00:06\n",
      "   ------------ --------------------------- 13.6/44.1 MB 6.0 MB/s eta 0:00:06\n",
      "   ------------ --------------------------- 13.8/44.1 MB 5.9 MB/s eta 0:00:06\n",
      "   ------------ --------------------------- 14.1/44.1 MB 5.8 MB/s eta 0:00:06\n",
      "   ------------ --------------------------- 14.3/44.1 MB 5.8 MB/s eta 0:00:06\n",
      "   ------------- -------------------------- 14.5/44.1 MB 5.7 MB/s eta 0:00:06\n",
      "   ------------- -------------------------- 14.7/44.1 MB 5.7 MB/s eta 0:00:06\n",
      "   ------------- -------------------------- 14.7/44.1 MB 5.5 MB/s eta 0:00:06\n",
      "   ------------- -------------------------- 14.8/44.1 MB 5.5 MB/s eta 0:00:06\n",
      "   ------------- -------------------------- 14.9/44.1 MB 5.3 MB/s eta 0:00:06\n",
      "   ------------- -------------------------- 15.0/44.1 MB 5.3 MB/s eta 0:00:06\n",
      "   ------------- -------------------------- 15.1/44.1 MB 5.2 MB/s eta 0:00:06\n",
      "   ------------- -------------------------- 15.3/44.1 MB 5.2 MB/s eta 0:00:06\n",
      "   ------------- -------------------------- 15.4/44.1 MB 5.0 MB/s eta 0:00:06\n",
      "   -------------- ------------------------- 15.7/44.1 MB 5.0 MB/s eta 0:00:06\n",
      "   -------------- ------------------------- 16.0/44.1 MB 5.1 MB/s eta 0:00:06\n",
      "   -------------- ------------------------- 16.3/44.1 MB 5.2 MB/s eta 0:00:06\n",
      "   --------------- ------------------------ 16.8/44.1 MB 5.2 MB/s eta 0:00:06\n",
      "   --------------- ------------------------ 17.1/44.1 MB 5.1 MB/s eta 0:00:06\n",
      "   --------------- ------------------------ 17.5/44.1 MB 5.1 MB/s eta 0:00:06\n",
      "   ---------------- ----------------------- 17.7/44.1 MB 5.0 MB/s eta 0:00:06\n",
      "   ---------------- ----------------------- 18.2/44.1 MB 5.0 MB/s eta 0:00:06\n",
      "   ---------------- ----------------------- 18.7/44.1 MB 5.0 MB/s eta 0:00:06\n",
      "   ----------------- ---------------------- 19.0/44.1 MB 5.0 MB/s eta 0:00:05\n",
      "   ----------------- ---------------------- 19.5/44.1 MB 5.1 MB/s eta 0:00:05\n",
      "   ------------------ --------------------- 20.0/44.1 MB 5.2 MB/s eta 0:00:05\n",
      "   ------------------ --------------------- 20.5/44.1 MB 5.4 MB/s eta 0:00:05\n",
      "   ------------------ --------------------- 20.9/44.1 MB 5.6 MB/s eta 0:00:05\n",
      "   ------------------- -------------------- 21.4/44.1 MB 5.6 MB/s eta 0:00:05\n",
      "   ------------------- -------------------- 21.9/44.1 MB 5.7 MB/s eta 0:00:04\n",
      "   -------------------- ------------------- 22.1/44.1 MB 5.9 MB/s eta 0:00:04\n",
      "   -------------------- ------------------- 22.3/44.1 MB 5.8 MB/s eta 0:00:04\n",
      "   -------------------- ------------------- 22.7/44.1 MB 6.1 MB/s eta 0:00:04\n",
      "   --------------------- ------------------ 23.2/44.1 MB 6.1 MB/s eta 0:00:04\n",
      "   --------------------- ------------------ 23.7/44.1 MB 6.4 MB/s eta 0:00:04\n",
      "   ---------------------- ----------------- 24.4/44.1 MB 6.8 MB/s eta 0:00:03\n",
      "   ---------------------- ----------------- 25.0/44.1 MB 7.6 MB/s eta 0:00:03\n",
      "   ----------------------- ---------------- 25.7/44.1 MB 9.0 MB/s eta 0:00:03\n",
      "   ------------------------ --------------- 26.5/44.1 MB 9.6 MB/s eta 0:00:02\n",
      "   ------------------------ --------------- 27.1/44.1 MB 9.9 MB/s eta 0:00:02\n",
      "   ------------------------- -------------- 27.6/44.1 MB 10.2 MB/s eta 0:00:02\n",
      "   ------------------------- -------------- 28.3/44.1 MB 10.7 MB/s eta 0:00:02\n",
      "   -------------------------- ------------- 28.9/44.1 MB 10.9 MB/s eta 0:00:02\n",
      "   -------------------------- ------------- 29.7/44.1 MB 11.5 MB/s eta 0:00:02\n",
      "   --------------------------- ------------ 30.4/44.1 MB 11.5 MB/s eta 0:00:02\n",
      "   ---------------------------- ----------- 31.2/44.1 MB 12.1 MB/s eta 0:00:02\n",
      "   ---------------------------- ----------- 31.9/44.1 MB 12.4 MB/s eta 0:00:01\n",
      "   ----------------------------- ---------- 32.6/44.1 MB 13.6 MB/s eta 0:00:01\n",
      "   ------------------------------ --------- 33.4/44.1 MB 14.2 MB/s eta 0:00:01\n",
      "   ------------------------------ --------- 33.9/44.1 MB 14.2 MB/s eta 0:00:01\n",
      "   ------------------------------- -------- 34.5/44.1 MB 14.2 MB/s eta 0:00:01\n",
      "   -------------------------------- ------- 35.4/44.1 MB 14.6 MB/s eta 0:00:01\n",
      "   -------------------------------- ------- 36.2/44.1 MB 14.5 MB/s eta 0:00:01\n",
      "   --------------------------------- ------ 37.0/44.1 MB 14.9 MB/s eta 0:00:01\n",
      "   ---------------------------------- ----- 37.8/44.1 MB 15.2 MB/s eta 0:00:01\n",
      "   ---------------------------------- ----- 38.4/44.1 MB 15.2 MB/s eta 0:00:01\n",
      "   ----------------------------------- ---- 39.2/44.1 MB 15.2 MB/s eta 0:00:01\n",
      "   ------------------------------------ --- 39.9/44.1 MB 15.2 MB/s eta 0:00:01\n",
      "   ------------------------------------ --- 40.4/44.1 MB 14.9 MB/s eta 0:00:01\n",
      "   ------------------------------------- -- 41.1/44.1 MB 14.9 MB/s eta 0:00:01\n",
      "   ------------------------------------- -- 41.8/44.1 MB 15.2 MB/s eta 0:00:01\n",
      "   -------------------------------------- - 42.7/44.1 MB 15.6 MB/s eta 0:00:01\n",
      "   ---------------------------------------  43.5/44.1 MB 15.2 MB/s eta 0:00:01\n",
      "   ---------------------------------------  44.1/44.1 MB 15.6 MB/s eta 0:00:01\n",
      "   ---------------------------------------  44.1/44.1 MB 15.6 MB/s eta 0:00:01\n",
      "   ---------------------------------------- 44.1/44.1 MB 13.6 MB/s eta 0:00:00\n",
      "Downloading joblib-1.3.2-py3-none-any.whl (302 kB)\n",
      "   ---------------------------------------- 0.0/302.2 kB ? eta -:--:--\n",
      "   --------------------------------------- 302.2/302.2 kB 19.5 MB/s eta 0:00:00\n",
      "Downloading threadpoolctl-3.2.0-py3-none-any.whl (15 kB)\n",
      "Installing collected packages: threadpoolctl, scipy, networkx, joblib, scikit-learn, branca, mapclassify, folium\n",
      "Successfully installed branca-0.6.0 folium-0.14.0 joblib-1.3.2 mapclassify-2.6.1 networkx-3.2.1 scikit-learn-1.3.2 scipy-1.11.3 threadpoolctl-3.2.0\n"
     ]
    }
   ],
   "source": [
    "#!pip install geopandas\n",
    "#!pip install matplotlib\n",
    "#!pip install folium matplotlib mapclassify"
   ]
  },
  {
   "cell_type": "code",
   "execution_count": 2,
   "id": "a0ba466d",
   "metadata": {},
   "outputs": [],
   "source": [
    "import os, geopandas as gpd\n",
    "\n",
    "countries=gpd.read_file(os.path.join(\"maps\",\"World_Countries\",\"World_Countries.shp\"))"
   ]
  },
  {
   "cell_type": "code",
   "execution_count": 3,
   "id": "506f1b89",
   "metadata": {},
   "outputs": [
    {
     "data": {
      "text/plain": [
       "geopandas.geodataframe.GeoDataFrame"
      ]
     },
     "execution_count": 3,
     "metadata": {},
     "output_type": "execute_result"
    }
   ],
   "source": [
    "type(countries)"
   ]
  },
  {
   "cell_type": "code",
   "execution_count": 4,
   "id": "b5ddffc3",
   "metadata": {},
   "outputs": [
    {
     "data": {
      "text/plain": [
       "(252, 2)"
      ]
     },
     "execution_count": 4,
     "metadata": {},
     "output_type": "execute_result"
    }
   ],
   "source": [
    "countries.shape"
   ]
  },
  {
   "cell_type": "code",
   "execution_count": 5,
   "id": "c40b93db",
   "metadata": {},
   "outputs": [
    {
     "data": {
      "text/plain": [
       "Index(['COUNTRY', 'geometry'], dtype='object')"
      ]
     },
     "execution_count": 5,
     "metadata": {},
     "output_type": "execute_result"
    }
   ],
   "source": [
    "countries.columns"
   ]
  },
  {
   "cell_type": "code",
   "execution_count": 6,
   "id": "e3ad8f74",
   "metadata": {},
   "outputs": [],
   "source": [
    "rivers=gpd.read_file(os.path.join(\"maps\",\"World_Hydrography\",\"World_Hydrography.shp\"))\n",
    "cities=gpd.read_file(os.path.join(\"maps\",\"World_Cities\",\"World_Cities.shp\"))"
   ]
  },
  {
   "cell_type": "code",
   "execution_count": 7,
   "id": "343f5db1",
   "metadata": {},
   "outputs": [
    {
     "data": {
      "text/plain": [
       "(98, 3)"
      ]
     },
     "execution_count": 7,
     "metadata": {},
     "output_type": "execute_result"
    }
   ],
   "source": [
    "rivers.shape"
   ]
  },
  {
   "cell_type": "code",
   "execution_count": 8,
   "id": "15894796",
   "metadata": {},
   "outputs": [
    {
     "data": {
      "text/plain": [
       "(610, 4)"
      ]
     },
     "execution_count": 8,
     "metadata": {},
     "output_type": "execute_result"
    }
   ],
   "source": [
    "cities.shape"
   ]
  },
  {
   "cell_type": "code",
   "execution_count": 9,
   "id": "45bc5818",
   "metadata": {},
   "outputs": [],
   "source": [
    "thailand=countries[countries.COUNTRY=='Thailand']"
   ]
  },
  {
   "cell_type": "code",
   "execution_count": 12,
   "id": "3444c17f",
   "metadata": {},
   "outputs": [
    {
     "data": {
      "text/plain": [
       "<Axes: >"
      ]
     },
     "execution_count": 12,
     "metadata": {},
     "output_type": "execute_result"
    },
    {
     "data": {
      "image/png": "[encoded data removed]",
      "text/plain": [
       "<Figure size 640x480 with 1 Axes>"
      ]
     },
     "metadata": {},
     "output_type": "display_data"
    }
   ],
   "source": [
    "\n",
    "thailand.plot()"
   ]
  },
  {
   "cell_type": "code",
   "execution_count": 13,
   "id": "6e0bed55",
   "metadata": {},
   "outputs": [
    {
     "data": {
      "text/plain": [
       "<Axes: >"
      ]
     },
     "execution_count": 13,
     "metadata": {},
     "output_type": "execute_result"
    },
    {
     "data": {
      "image/png": "[encoded data removed]",
      "text/plain": [
       "<Figure size 640x480 with 1 Axes>"
      ]
     },
     "metadata": {},
     "output_type": "display_data"
    }
   ],
   "source": [
    "#VEREMOS LAS CIUDADES DENTRO DE TAILANDIA \n",
    "\n",
    "cities_thailand=cities[cities.COUNTRY=='Thailand']\n",
    "cities_thailand.plot()"
   ]
  },
  {
   "cell_type": "code",
   "execution_count": 14,
   "id": "c5831648",
   "metadata": {},
   "outputs": [
    {
     "data": {
      "text/html": [
       "<div>\n",
       "<style scoped>\n",
       "    .dataframe tbody tr th:only-of-type {\n",
       "        vertical-align: middle;\n",
       "    }\n",
       "\n",
       "    .dataframe tbody tr th {\n",
       "        vertical-align: top;\n",
       "    }\n",
       "\n",
       "    .dataframe thead th {\n",
       "        text-align: right;\n",
       "    }\n",
       "</style>\n",
       "<table border=\"1\" class=\"dataframe\">\n",
       "  <thead>\n",
       "    <tr style=\"text-align: right;\">\n",
       "      <th></th>\n",
       "      <th>NAME</th>\n",
       "      <th>COUNTRY</th>\n",
       "      <th>CAPITAL</th>\n",
       "      <th>geometry</th>\n",
       "    </tr>\n",
       "  </thead>\n",
       "  <tbody>\n",
       "    <tr>\n",
       "      <th>231</th>\n",
       "      <td>Bangkok</td>\n",
       "      <td>Thailand</td>\n",
       "      <td>Y</td>\n",
       "      <td>POINT (100.55267 13.74557)</td>\n",
       "    </tr>\n",
       "  </tbody>\n",
       "</table>\n",
       "</div>"
      ],
      "text/plain": [
       "        NAME   COUNTRY CAPITAL                    geometry\n",
       "231  Bangkok  Thailand       Y  POINT (100.55267 13.74557)"
      ]
     },
     "execution_count": 14,
     "metadata": {},
     "output_type": "execute_result"
    }
   ],
   "source": [
    "cities_thailand.head()"
   ]
  },
  {
   "cell_type": "code",
   "execution_count": 15,
   "id": "3afada76",
   "metadata": {},
   "outputs": [
    {
     "data": {
      "text/plain": [
       "<Axes: >"
      ]
     },
     "execution_count": 15,
     "metadata": {},
     "output_type": "execute_result"
    },
    {
     "data": {
      "image/png": "[encoded data removed]",
      "text/plain": [
       "<Figure size 640x480 with 1 Axes>"
      ]
     },
     "metadata": {},
     "output_type": "display_data"
    }
   ],
   "source": [
    "#RÍOS DE TAILANDIA \n",
    "rivers_thailand = gpd.clip(gdf=rivers, mask=thailand)\n",
    "rivers_thailand.plot()"
   ]
  },
  {
   "cell_type": "code",
   "execution_count": 16,
   "id": "9dca0241",
   "metadata": {},
   "outputs": [
    {
     "data": {
      "text/html": [
       "<div>\n",
       "<style scoped>\n",
       "    .dataframe tbody tr th:only-of-type {\n",
       "        vertical-align: middle;\n",
       "    }\n",
       "\n",
       "    .dataframe tbody tr th {\n",
       "        vertical-align: top;\n",
       "    }\n",
       "\n",
       "    .dataframe thead th {\n",
       "        text-align: right;\n",
       "    }\n",
       "</style>\n",
       "<table border=\"1\" class=\"dataframe\">\n",
       "  <thead>\n",
       "    <tr style=\"text-align: right;\">\n",
       "      <th></th>\n",
       "      <th>NAME</th>\n",
       "      <th>SYSTEM</th>\n",
       "      <th>geometry</th>\n",
       "    </tr>\n",
       "  </thead>\n",
       "  <tbody>\n",
       "    <tr>\n",
       "      <th>40</th>\n",
       "      <td>Mekong</td>\n",
       "      <td>None</td>\n",
       "      <td>MULTILINESTRING ((101.70156 17.92166, 101.8080...</td>\n",
       "    </tr>\n",
       "    <tr>\n",
       "      <th>69</th>\n",
       "      <td>Salween</td>\n",
       "      <td>None</td>\n",
       "      <td>MULTILINESTRING ((97.91654 17.57445, 97.96180 ...</td>\n",
       "    </tr>\n",
       "  </tbody>\n",
       "</table>\n",
       "</div>"
      ],
      "text/plain": [
       "       NAME SYSTEM                                           geometry\n",
       "40   Mekong   None  MULTILINESTRING ((101.70156 17.92166, 101.8080...\n",
       "69  Salween   None  MULTILINESTRING ((97.91654 17.57445, 97.96180 ..."
      ]
     },
     "execution_count": 16,
     "metadata": {},
     "output_type": "execute_result"
    }
   ],
   "source": [
    "rivers_thailand.head()"
   ]
  },
  {
   "cell_type": "code",
   "execution_count": 17,
   "id": "3cccf3ec",
   "metadata": {},
   "outputs": [
    {
     "data": {
      "text/plain": [
       "<Axes: >"
      ]
     },
     "execution_count": 17,
     "metadata": {},
     "output_type": "execute_result"
    },
    {
     "data": {
      "image/png": "[encoded data removed]",
      "text/plain": [
       "<Figure size 500x500 with 1 Axes>"
      ]
     },
     "metadata": {},
     "output_type": "display_data"
    }
   ],
   "source": [
    "base = thailand.plot(facecolor=\"white\", edgecolor='black', linewidth=0.9,figsize=(5,5))\n",
    "cities_thailand.plot(marker='+', color='red', markersize=20,ax=base)\n",
    "rivers_thailand.plot(edgecolor='blue', linewidth=0.5,ax=base)"
   ]
  },
  {
   "cell_type": "code",
   "execution_count": 21,
   "id": "bf0e1f49",
   "metadata": {},
   "outputs": [],
   "source": [
    "thailandCoord = [20.593684, 78.96288]"
   ]
  },
  {
   "cell_type": "code",
   "execution_count": 22,
   "id": "7dfe7f59",
   "metadata": {},
   "outputs": [
    {
     "data": {
      "text/html": [
       "<div style=\"width:100%;\"><div style=\"position:relative;width:100%;height:0;padding-bottom:60%;\"><span style=\"color:#565656\">Make this Notebook Trusted to load map: File -> Trust Notebook</span><iframe srcdoc=\"&lt;!DOCTYPE html&gt;\n",
       "&lt;html&gt;\n",
       "&lt;head&gt;\n",
       "    \n",
       "    &lt;meta http-equiv=&quot;content-type&quot; content=&quot;text/html; charset=UTF-8&quot; /&gt;\n",
       "    \n",
       "        &lt;script&gt;\n",
       "            L_NO_TOUCH = false;\n",
       "            L_DISABLE_3D = false;\n",
       "        &lt;/script&gt;\n",
       "    \n",
       "    &lt;style&gt;html, body {width: 100%;height: 100%;margin: 0;padding: 0;}&lt;/style&gt;\n",
       "    &lt;style&gt;#map {position:absolute;top:0;bottom:0;right:0;left:0;}&lt;/style&gt;\n",
       "    &lt;script src=&quot;https://cdn.jsdelivr.net/npm/leaflet@1.9.3/dist/leaflet.js&quot;&gt;&lt;/script&gt;\n",
       "    &lt;script src=&quot;https://code.jquery.com/jquery-1.12.4.min.js&quot;&gt;&lt;/script&gt;\n",
       "    &lt;script src=&quot;https://cdn.jsdelivr.net/npm/bootstrap@5.2.2/dist/js/bootstrap.bundle.min.js&quot;&gt;&lt;/script&gt;\n",
       "    &lt;script src=&quot;https://cdnjs.cloudflare.com/ajax/libs/Leaflet.awesome-markers/2.0.2/leaflet.awesome-markers.js&quot;&gt;&lt;/script&gt;\n",
       "    &lt;link rel=&quot;stylesheet&quot; href=&quot;https://cdn.jsdelivr.net/npm/leaflet@1.9.3/dist/leaflet.css&quot;/&gt;\n",
       "    &lt;link rel=&quot;stylesheet&quot; href=&quot;https://cdn.jsdelivr.net/npm/bootstrap@5.2.2/dist/css/bootstrap.min.css&quot;/&gt;\n",
       "    &lt;link rel=&quot;stylesheet&quot; href=&quot;https://netdna.bootstrapcdn.com/bootstrap/3.0.0/css/bootstrap.min.css&quot;/&gt;\n",
       "    &lt;link rel=&quot;stylesheet&quot; href=&quot;https://cdn.jsdelivr.net/npm/@fortawesome/fontawesome-free@6.2.0/css/all.min.css&quot;/&gt;\n",
       "    &lt;link rel=&quot;stylesheet&quot; href=&quot;https://cdnjs.cloudflare.com/ajax/libs/Leaflet.awesome-markers/2.0.2/leaflet.awesome-markers.css&quot;/&gt;\n",
       "    &lt;link rel=&quot;stylesheet&quot; href=&quot;https://cdn.jsdelivr.net/gh/python-visualization/folium/folium/templates/leaflet.awesome.rotate.min.css&quot;/&gt;\n",
       "    \n",
       "            &lt;meta name=&quot;viewport&quot; content=&quot;width=device-width,\n",
       "                initial-scale=1.0, maximum-scale=1.0, user-scalable=no&quot; /&gt;\n",
       "            &lt;style&gt;\n",
       "                #map_4ae97530c5da6e70806b7cce25d0e122 {\n",
       "                    position: relative;\n",
       "                    width: 100.0%;\n",
       "                    height: 100.0%;\n",
       "                    left: 0.0%;\n",
       "                    top: 0.0%;\n",
       "                }\n",
       "                .leaflet-container { font-size: 1rem; }\n",
       "            &lt;/style&gt;\n",
       "        \n",
       "    \n",
       "                    &lt;style&gt;\n",
       "                        .foliumtooltip {\n",
       "                            \n",
       "                        }\n",
       "                       .foliumtooltip table{\n",
       "                            margin: auto;\n",
       "                        }\n",
       "                        .foliumtooltip tr{\n",
       "                            text-align: left;\n",
       "                        }\n",
       "                        .foliumtooltip th{\n",
       "                            padding: 2px; padding-right: 8px;\n",
       "                        }\n",
       "                    &lt;/style&gt;\n",
       "            \n",
       "    \n",
       "                    &lt;style&gt;\n",
       "                        .foliumtooltip {\n",
       "                            \n",
       "                        }\n",
       "                       .foliumtooltip table{\n",
       "                            margin: auto;\n",
       "                        }\n",
       "                        .foliumtooltip tr{\n",
       "                            text-align: left;\n",
       "                        }\n",
       "                        .foliumtooltip th{\n",
       "                            padding: 2px; padding-right: 8px;\n",
       "                        }\n",
       "                    &lt;/style&gt;\n",
       "            \n",
       "&lt;/head&gt;\n",
       "&lt;body&gt;\n",
       "    \n",
       "    \n",
       "            &lt;div class=&quot;folium-map&quot; id=&quot;map_4ae97530c5da6e70806b7cce25d0e122&quot; &gt;&lt;/div&gt;\n",
       "        \n",
       "&lt;/body&gt;\n",
       "&lt;script&gt;\n",
       "    \n",
       "    \n",
       "            var map_4ae97530c5da6e70806b7cce25d0e122 = L.map(\n",
       "                &quot;map_4ae97530c5da6e70806b7cce25d0e122&quot;,\n",
       "                {\n",
       "                    center: [20.593684, 78.96288],\n",
       "                    crs: L.CRS.EPSG3857,\n",
       "                    zoom: 4,\n",
       "                    zoomControl: true,\n",
       "                    preferCanvas: false,\n",
       "                }\n",
       "            );\n",
       "            L.control.scale().addTo(map_4ae97530c5da6e70806b7cce25d0e122);\n",
       "\n",
       "            \n",
       "\n",
       "        \n",
       "    \n",
       "            var tile_layer_b11047b98b7ab14af596f28e1d7d7b18 = L.tileLayer(\n",
       "                &quot;https://cartodb-basemaps-{s}.global.ssl.fastly.net/light_all/{z}/{x}/{y}.png&quot;,\n",
       "                {&quot;attribution&quot;: &quot;\\u0026copy; \\u003ca target=\\&quot;_blank\\&quot; href=\\&quot;http://www.openstreetmap.org/copyright\\&quot;\\u003eOpenStreetMap\\u003c/a\\u003e contributors \\u0026copy; \\u003ca target=\\&quot;_blank\\&quot; href=\\&quot;http://cartodb.com/attributions\\&quot;\\u003eCartoDB\\u003c/a\\u003e, CartoDB \\u003ca target=\\&quot;_blank\\&quot; href =\\&quot;http://cartodb.com/attributions\\&quot;\\u003eattributions\\u003c/a\\u003e&quot;, &quot;detectRetina&quot;: false, &quot;maxNativeZoom&quot;: 18, &quot;maxZoom&quot;: 18, &quot;minZoom&quot;: 0, &quot;noWrap&quot;: false, &quot;opacity&quot;: 1, &quot;subdomains&quot;: &quot;abc&quot;, &quot;tms&quot;: false}\n",
       "            ).addTo(map_4ae97530c5da6e70806b7cce25d0e122);\n",
       "        \n",
       "    \n",
       "        function geo_json_99343ac5a13c41de4b542594db582b28_styler(feature) {\n",
       "            switch(feature.id) {\n",
       "                default:\n",
       "                    return {&quot;color&quot;: &quot;red&quot;, &quot;fillColor&quot;: &quot;red&quot;, &quot;fillOpacity&quot;: 0.5, &quot;weight&quot;: 2};\n",
       "            }\n",
       "        }\n",
       "        function geo_json_99343ac5a13c41de4b542594db582b28_highlighter(feature) {\n",
       "            switch(feature.id) {\n",
       "                default:\n",
       "                    return {&quot;fillOpacity&quot;: 0.75};\n",
       "            }\n",
       "        }\n",
       "        function geo_json_99343ac5a13c41de4b542594db582b28_pointToLayer(feature, latlng) {\n",
       "            var opts = {&quot;bubblingMouseEvents&quot;: true, &quot;color&quot;: &quot;#3388ff&quot;, &quot;dashArray&quot;: null, &quot;dashOffset&quot;: null, &quot;fill&quot;: true, &quot;fillColor&quot;: &quot;#3388ff&quot;, &quot;fillOpacity&quot;: 0.2, &quot;fillRule&quot;: &quot;evenodd&quot;, &quot;lineCap&quot;: &quot;round&quot;, &quot;lineJoin&quot;: &quot;round&quot;, &quot;opacity&quot;: 1.0, &quot;radius&quot;: 2, &quot;stroke&quot;: true, &quot;weight&quot;: 3};\n",
       "            \n",
       "            let style = geo_json_99343ac5a13c41de4b542594db582b28_styler(feature)\n",
       "            Object.assign(opts, style)\n",
       "            \n",
       "            return new L.CircleMarker(latlng, opts)\n",
       "        }\n",
       "\n",
       "        function geo_json_99343ac5a13c41de4b542594db582b28_onEachFeature(feature, layer) {\n",
       "            layer.on({\n",
       "                mouseout: function(e) {\n",
       "                    if(typeof e.target.setStyle === &quot;function&quot;){\n",
       "                        geo_json_99343ac5a13c41de4b542594db582b28.resetStyle(e.target);\n",
       "                    }\n",
       "                },\n",
       "                mouseover: function(e) {\n",
       "                    if(typeof e.target.setStyle === &quot;function&quot;){\n",
       "                        const highlightStyle = geo_json_99343ac5a13c41de4b542594db582b28_highlighter(e.target.feature)\n",
       "                        e.target.setStyle(highlightStyle);\n",
       "                    }\n",
       "                },\n",
       "            });\n",
       "        };\n",
       "        var geo_json_99343ac5a13c41de4b542594db582b28 = L.geoJson(null, {\n",
       "                onEachFeature: geo_json_99343ac5a13c41de4b542594db582b28_onEachFeature,\n",
       "            \n",
       "                style: geo_json_99343ac5a13c41de4b542594db582b28_styler,\n",
       "                pointToLayer: geo_json_99343ac5a13c41de4b542594db582b28_pointToLayer\n",
       "        });\n",
       "\n",
       "        function geo_json_99343ac5a13c41de4b542594db582b28_add (data) {\n",
       "            geo_json_99343ac5a13c41de4b542594db582b28\n",
       "                .addData(data)\n",
       "                .addTo(map_4ae97530c5da6e70806b7cce25d0e122);\n",
       "        }\n",
       "            geo_json_99343ac5a13c41de4b542594db582b28_add({&quot;bbox&quot;: [100.55266571044922, 13.74557113647461, 100.55266571044922, 13.74557113647461], &quot;features&quot;: [{&quot;bbox&quot;: [100.55266571044922, 13.74557113647461, 100.55266571044922, 13.74557113647461], &quot;geometry&quot;: {&quot;coordinates&quot;: [100.55266571044922, 13.74557113647461], &quot;type&quot;: &quot;Point&quot;}, &quot;id&quot;: &quot;231&quot;, &quot;properties&quot;: {&quot;CAPITAL&quot;: &quot;Y&quot;, &quot;COUNTRY&quot;: &quot;Thailand&quot;, &quot;NAME&quot;: &quot;Bangkok&quot;, &quot;__folium_color&quot;: &quot;red&quot;}, &quot;type&quot;: &quot;Feature&quot;}], &quot;type&quot;: &quot;FeatureCollection&quot;});\n",
       "\n",
       "        \n",
       "    \n",
       "    geo_json_99343ac5a13c41de4b542594db582b28.bindTooltip(\n",
       "    function(layer){\n",
       "    let div = L.DomUtil.create(&#x27;div&#x27;);\n",
       "    \n",
       "    let handleObject = feature=&gt;typeof(feature)==&#x27;object&#x27; ? JSON.stringify(feature) : feature;\n",
       "    let fields = [&quot;NAME&quot;, &quot;COUNTRY&quot;, &quot;CAPITAL&quot;];\n",
       "    let aliases = [&quot;NAME&quot;, &quot;COUNTRY&quot;, &quot;CAPITAL&quot;];\n",
       "    let table = &#x27;&lt;table&gt;&#x27; +\n",
       "        String(\n",
       "        fields.map(\n",
       "        (v,i)=&gt;\n",
       "        `&lt;tr&gt;\n",
       "            &lt;th&gt;${aliases[i]}&lt;/th&gt;\n",
       "            \n",
       "            &lt;td&gt;${handleObject(layer.feature.properties[v])}&lt;/td&gt;\n",
       "        &lt;/tr&gt;`).join(&#x27;&#x27;))\n",
       "    +&#x27;&lt;/table&gt;&#x27;;\n",
       "    div.innerHTML=table;\n",
       "    \n",
       "    return div\n",
       "    }\n",
       "    ,{&quot;className&quot;: &quot;foliumtooltip&quot;, &quot;sticky&quot;: true});\n",
       "                     \n",
       "    \n",
       "        function geo_json_fe1fed63acb13d0001234fef8b31563f_styler(feature) {\n",
       "            switch(feature.id) {\n",
       "                default:\n",
       "                    return {&quot;color&quot;: &quot;blue&quot;, &quot;fillColor&quot;: &quot;blue&quot;, &quot;fillOpacity&quot;: 0.5, &quot;weight&quot;: 2};\n",
       "            }\n",
       "        }\n",
       "        function geo_json_fe1fed63acb13d0001234fef8b31563f_highlighter(feature) {\n",
       "            switch(feature.id) {\n",
       "                default:\n",
       "                    return {&quot;fillOpacity&quot;: 0.75};\n",
       "            }\n",
       "        }\n",
       "        function geo_json_fe1fed63acb13d0001234fef8b31563f_pointToLayer(feature, latlng) {\n",
       "            var opts = {&quot;bubblingMouseEvents&quot;: true, &quot;color&quot;: &quot;#3388ff&quot;, &quot;dashArray&quot;: null, &quot;dashOffset&quot;: null, &quot;fill&quot;: true, &quot;fillColor&quot;: &quot;#3388ff&quot;, &quot;fillOpacity&quot;: 0.2, &quot;fillRule&quot;: &quot;evenodd&quot;, &quot;lineCap&quot;: &quot;round&quot;, &quot;lineJoin&quot;: &quot;round&quot;, &quot;opacity&quot;: 1.0, &quot;radius&quot;: 2, &quot;stroke&quot;: true, &quot;weight&quot;: 3};\n",
       "            \n",
       "            let style = geo_json_fe1fed63acb13d0001234fef8b31563f_styler(feature)\n",
       "            Object.assign(opts, style)\n",
       "            \n",
       "            return new L.CircleMarker(latlng, opts)\n",
       "        }\n",
       "\n",
       "        function geo_json_fe1fed63acb13d0001234fef8b31563f_onEachFeature(feature, layer) {\n",
       "            layer.on({\n",
       "                mouseout: function(e) {\n",
       "                    if(typeof e.target.setStyle === &quot;function&quot;){\n",
       "                        geo_json_fe1fed63acb13d0001234fef8b31563f.resetStyle(e.target);\n",
       "                    }\n",
       "                },\n",
       "                mouseover: function(e) {\n",
       "                    if(typeof e.target.setStyle === &quot;function&quot;){\n",
       "                        const highlightStyle = geo_json_fe1fed63acb13d0001234fef8b31563f_highlighter(e.target.feature)\n",
       "                        e.target.setStyle(highlightStyle);\n",
       "                    }\n",
       "                },\n",
       "            });\n",
       "        };\n",
       "        var geo_json_fe1fed63acb13d0001234fef8b31563f = L.geoJson(null, {\n",
       "                onEachFeature: geo_json_fe1fed63acb13d0001234fef8b31563f_onEachFeature,\n",
       "            \n",
       "                style: geo_json_fe1fed63acb13d0001234fef8b31563f_styler,\n",
       "                pointToLayer: geo_json_fe1fed63acb13d0001234fef8b31563f_pointToLayer\n",
       "        });\n",
       "\n",
       "        function geo_json_fe1fed63acb13d0001234fef8b31563f_add (data) {\n",
       "            geo_json_fe1fed63acb13d0001234fef8b31563f\n",
       "                .addData(data)\n",
       "                .addTo(map_4ae97530c5da6e70806b7cce25d0e122);\n",
       "        }\n",
       "            geo_json_fe1fed63acb13d0001234fef8b31563f_add({&quot;bbox&quot;: [97.60558663219894, 15.42894939074431, 105.59574363870757, 19.47359699938397], &quot;features&quot;: [{&quot;bbox&quot;: [101.70156372161875, 15.42894939074431, 105.59574363870757, 18.434520569867182], &quot;geometry&quot;: {&quot;coordinates&quot;: [[[101.70156372161875, 17.921659500859292], [101.80805206298828, 17.862993240356445], [102.06831359863281, 18.12437629699707], [102.21433502267959, 18.137171729999647]], [[102.7645971490766, 17.907458203112515], [102.86515045166016, 17.862337112426758], [102.96505737304688, 17.89468002319336], [103.20957946777344, 18.010412216186523], [103.2998275756836, 18.252241134643555], [103.41455128269332, 18.434520569867182]], [[104.6440364587078, 17.555986116539774], [104.78791046142578, 17.34654998779297], [104.79613757601085, 17.13084982721892]], [[104.97551431707895, 16.289985258836435], [104.97708129882812, 16.287134170532227], [105.02440125793223, 16.22538456358873]], [[105.14074912945665, 16.073557819200815], [105.41796875, 15.711803436279297], [105.5827407836914, 15.43873119354248], [105.59574363870757, 15.42894939074431]]], &quot;type&quot;: &quot;MultiLineString&quot;}, &quot;id&quot;: &quot;40&quot;, &quot;properties&quot;: {&quot;NAME&quot;: &quot;Mekong&quot;, &quot;SYSTEM&quot;: null, &quot;__folium_color&quot;: &quot;blue&quot;}, &quot;type&quot;: &quot;Feature&quot;}, {&quot;bbox&quot;: [97.60558663219894, 17.574449489260108, 97.96179962158203, 19.47359699938397], &quot;geometry&quot;: {&quot;coordinates&quot;: [[[97.91653790148439, 17.574449489260108], [97.96179962158203, 18.042579650878906], [97.60558663219894, 18.5416655499194]], [[97.68090200663927, 18.93372574493745], [97.6817855834961, 18.933692932128906], [97.68245556387132, 18.93601750576592]], [[97.80388803163757, 19.357341358951125], [97.83739482030568, 19.47359699938397]]], &quot;type&quot;: &quot;MultiLineString&quot;}, &quot;id&quot;: &quot;69&quot;, &quot;properties&quot;: {&quot;NAME&quot;: &quot;Salween&quot;, &quot;SYSTEM&quot;: null, &quot;__folium_color&quot;: &quot;blue&quot;}, &quot;type&quot;: &quot;Feature&quot;}], &quot;type&quot;: &quot;FeatureCollection&quot;});\n",
       "\n",
       "        \n",
       "    \n",
       "    geo_json_fe1fed63acb13d0001234fef8b31563f.bindTooltip(\n",
       "    function(layer){\n",
       "    let div = L.DomUtil.create(&#x27;div&#x27;);\n",
       "    \n",
       "    let handleObject = feature=&gt;typeof(feature)==&#x27;object&#x27; ? JSON.stringify(feature) : feature;\n",
       "    let fields = [&quot;NAME&quot;, &quot;SYSTEM&quot;];\n",
       "    let aliases = [&quot;NAME&quot;, &quot;SYSTEM&quot;];\n",
       "    let table = &#x27;&lt;table&gt;&#x27; +\n",
       "        String(\n",
       "        fields.map(\n",
       "        (v,i)=&gt;\n",
       "        `&lt;tr&gt;\n",
       "            &lt;th&gt;${aliases[i]}&lt;/th&gt;\n",
       "            \n",
       "            &lt;td&gt;${handleObject(layer.feature.properties[v])}&lt;/td&gt;\n",
       "        &lt;/tr&gt;`).join(&#x27;&#x27;))\n",
       "    +&#x27;&lt;/table&gt;&#x27;;\n",
       "    div.innerHTML=table;\n",
       "    \n",
       "    return div\n",
       "    }\n",
       "    ,{&quot;className&quot;: &quot;foliumtooltip&quot;, &quot;sticky&quot;: true});\n",
       "                     \n",
       "&lt;/script&gt;\n",
       "&lt;/html&gt;\" style=\"position:absolute;width:100%;height:100%;left:0;top:0;border:none !important;\" allowfullscreen webkitallowfullscreen mozallowfullscreen></iframe></div></div>"
      ],
      "text/plain": [
       "<folium.folium.Map at 0x17e09eb4990>"
      ]
     },
     "execution_count": 22,
     "metadata": {},
     "output_type": "execute_result"
    }
   ],
   "source": [
    "m = cities_thailand.explore(location=thailandCoord,\n",
    "                   zoom_start=4,\n",
    "                   tiles='CartoDB positron',\n",
    "                   color='red',\n",
    "                   name=\"cities\") \n",
    "m = rivers_thailand.explore(m=m, color=\"blue\",\n",
    "                   name=\"rivers\")\n",
    "m"
   ]
  },
  {
   "cell_type": "code",
   "execution_count": 23,
   "id": "f48661c0",
   "metadata": {},
   "outputs": [
    {
     "data": {
      "text/plain": [
       "[Axis(name=Geodetic latitude, abbrev=Lat, direction=north, unit_auth_code=EPSG, unit_code=9122, unit_name=degree),\n",
       " Axis(name=Geodetic longitude, abbrev=Lon, direction=east, unit_auth_code=EPSG, unit_code=9122, unit_name=degree)]"
      ]
     },
     "execution_count": 23,
     "metadata": {},
     "output_type": "execute_result"
    }
   ],
   "source": [
    "thailand.crs.axis_info"
   ]
  },
  {
   "cell_type": "code",
   "execution_count": 24,
   "id": "72bd2bbb",
   "metadata": {},
   "outputs": [
    {
     "name": "stderr",
     "output_type": "stream",
     "text": [
      "C:\\Users\\Lenovo\\AppData\\Local\\Temp\\ipykernel_14204\\1526914381.py:1: UserWarning: Geometry is in a geographic CRS. Results from 'centroid' are likely incorrect. Use 'GeoSeries.to_crs()' to re-project geometries to a projected CRS before this operation.\n",
      "\n",
      "  thailand.centroid\n"
     ]
    },
    {
     "data": {
      "text/plain": [
       "213    POINT (101.01744 15.12733)\n",
       "dtype: geometry"
      ]
     },
     "execution_count": 24,
     "metadata": {},
     "output_type": "execute_result"
    }
   ],
   "source": [
    "thailand.centroid\n"
   ]
  },
  {
   "cell_type": "code",
   "execution_count": 25,
   "id": "dda0f84c",
   "metadata": {},
   "outputs": [
    {
     "data": {
      "text/plain": [
       "[Axis(name=Geodetic latitude, abbrev=Lat, direction=north, unit_auth_code=EPSG, unit_code=9122, unit_name=degree),\n",
       " Axis(name=Geodetic longitude, abbrev=Lon, direction=east, unit_auth_code=EPSG, unit_code=9122, unit_name=degree)]"
      ]
     },
     "execution_count": 25,
     "metadata": {},
     "output_type": "execute_result"
    }
   ],
   "source": [
    "thailand.to_crs(4239).crs.axis_info"
   ]
  },
  {
   "cell_type": "code",
   "execution_count": 26,
   "id": "bade6f2e",
   "metadata": {},
   "outputs": [
    {
     "name": "stderr",
     "output_type": "stream",
     "text": [
      "C:\\Users\\Lenovo\\AppData\\Local\\Temp\\ipykernel_14204\\491468615.py:1: UserWarning: Geometry is in a geographic CRS. Results from 'centroid' are likely incorrect. Use 'GeoSeries.to_crs()' to re-project geometries to a projected CRS before this operation.\n",
      "\n",
      "  thailand.to_crs(4239).centroid\n"
     ]
    },
    {
     "data": {
      "text/plain": [
       "213    POINT (101.02088 15.12572)\n",
       "dtype: geometry"
      ]
     },
     "execution_count": 26,
     "metadata": {},
     "output_type": "execute_result"
    }
   ],
   "source": [
    "thailand.to_crs(4239).centroid"
   ]
  },
  {
   "cell_type": "code",
   "execution_count": 27,
   "id": "4fff70c0",
   "metadata": {},
   "outputs": [
    {
     "name": "stderr",
     "output_type": "stream",
     "text": [
      "C:\\Users\\Lenovo\\AppData\\Local\\Temp\\ipykernel_14204\\992306224.py:2: UserWarning: Geometry is in a geographic CRS. Results from 'centroid' are likely incorrect. Use 'GeoSeries.to_crs()' to re-project geometries to a projected CRS before this operation.\n",
      "\n",
      "  thailand.to_crs(4239).centroid.plot(color='Black',ax=base4239)\n"
     ]
    },
    {
     "data": {
      "text/plain": [
       "<Axes: >"
      ]
     },
     "execution_count": 27,
     "metadata": {},
     "output_type": "execute_result"
    },
    {
     "data": {
      "image/png": "[encoded data removed]",
      "text/plain": [
       "<Figure size 640x480 with 1 Axes>"
      ]
     },
     "metadata": {},
     "output_type": "display_data"
    }
   ],
   "source": [
    "base4239=thailand.to_crs(4239).plot()\n",
    "thailand.to_crs(4239).centroid.plot(color='Black',ax=base4239)"
   ]
  },
  {
   "cell_type": "code",
   "execution_count": 28,
   "id": "c8470cfc",
   "metadata": {},
   "outputs": [],
   "source": [
    "thailand_4239=thailand.to_crs(4239)\n",
    "cities_thailand=cities[cities.COUNTRY=='Thailand']\n",
    "cities_4239=cities_thailand.to_crs(thailand_4239.crs)\n",
    "rivers_4239=rivers.to_crs(thailand_4239.crs)\n",
    "rivers_4239=gpd.clip(gdf=rivers_4239,mask=thailand_4239)"
   ]
  },
  {
   "cell_type": "code",
   "execution_count": 29,
   "id": "c22a4101",
   "metadata": {},
   "outputs": [
    {
     "data": {
      "text/plain": [
       "<Axes: >"
      ]
     },
     "execution_count": 29,
     "metadata": {},
     "output_type": "execute_result"
    },
    {
     "data": {
      "image/png": "[encoded data removed]",
      "text/plain": [
       "<Figure size 500x500 with 1 Axes>"
      ]
     },
     "metadata": {},
     "output_type": "display_data"
    }
   ],
   "source": [
    "base = thailand_4239.plot(facecolor=\"white\", edgecolor='black', linewidth=0.4,figsize=(5,5))\n",
    "cities_4239.plot(marker='.', color='black', markersize=15,ax=base)\n",
    "rivers_4239.plot(edgecolor='red', linewidth=0.5,ax=base)"
   ]
  },
  {
   "cell_type": "code",
   "execution_count": 30,
   "id": "18e503d0",
   "metadata": {},
   "outputs": [
    {
     "data": {
      "image/png": "[encoded data removed]",
      "text/plain": [
       "<Figure size 500x500 with 1 Axes>"
      ]
     },
     "metadata": {},
     "output_type": "display_data"
    }
   ],
   "source": [
    "import matplotlib.pyplot as plt\n",
    "basethailand = thailand_4239.plot(facecolor=\"greenyellow\", edgecolor='black', linewidth=0.4,figsize=(5,5))\n",
    "map2=cities_4239.plot(marker='.', color='green', markersize=15,ax=basethailand)\n",
    "mapEndthailand=rivers_4239.plot(edgecolor='red', linewidth=0.5,ax=basethailand)\n",
    "plt.savefig(os.path.join(\"Figures\",'mapEnd.jpg'))"
   ]
  },
  {
   "cell_type": "code",
   "execution_count": 31,
   "id": "c25dd522",
   "metadata": {},
   "outputs": [],
   "source": [
    "countries.to_file(os.path.join(\"maps\",\"worldmaps.gpkg\"), layer='countries', driver=\"GPKG\")\n",
    "cities.to_file(os.path.join(\"maps\",\"worldmaps.gpkg\"), layer='cities', driver=\"GPKG\")\n",
    "rivers.to_file(os.path.join(\"maps\",\"worldmaps.gpkg\"), layer='rivers', driver=\"GPKG\")"
   ]
  },
  {
   "cell_type": "code",
   "execution_count": 65,
   "id": "852af35e",
   "metadata": {},
   "outputs": [],
   "source": [
    "# link_worldmaps="
   ]
  },
  {
   "cell_type": "code",
   "execution_count": 66,
   "id": "57f97c98",
   "metadata": {},
   "outputs": [],
   "source": [
    "#from  fiona import listlayers\n",
    "\n",
    "#listlayers(link_worldmaps)\n"
   ]
  },
  {
   "cell_type": "code",
   "execution_count": null,
   "id": "557361b1",
   "metadata": {},
   "outputs": [],
   "source": [
    "# countries_prueba=gpd.read_file(link_worldmaps,layer='countries')\n",
    "# cities_prueba=gpd.read_file(link_worldmaps,layer='cities')\n",
    "# rivers_prueba=gpd.read_file(link_worldmaps,layer='rivers')"
   ]
  },
  {
   "cell_type": "code",
   "execution_count": null,
   "id": "994ffaaa",
   "metadata": {},
   "outputs": [],
   "source": [
    "# base_prueba= countries.plot(facecolor='gainsboro')\n",
    "# cities_prueba.plot(ax=base_prueba, markersize=0.5, color='green') \n",
    "# rivers_prueba.plot(ax=base_prueba, linewidth=0.5)"
   ]
  },
  {
   "cell_type": "code",
   "execution_count": null,
   "id": "415bce04",
   "metadata": {},
   "outputs": [],
   "source": [
    "# import os \n",
    "# thailand_4239.to_file(os.path.join(\"maps\",\"thailand_4239\",\"thailandMaps_4239.gpkg\"), layer='country', driver=\"GPKG\")\n",
    "# cities_4239.to_file(os.path.join(\"maps\",\"thailand_4239\",\"thailandMaps_4239.gpkg\"), layer='cities', driver=\"GPKG\")\n",
    "# rivers_4239.to_file(os.path.join(\"maps\",\"thailand_4239\",\"thailandMaps_4239.gpkg\"), layer='rivers', driver=\"GPKG\")"
   ]
  },
  {
   "cell_type": "code",
   "execution_count": null,
   "id": "74e8f755",
   "metadata": {},
   "outputs": [],
   "source": [
    "# thailandMaps=\n"
   ]
  },
  {
   "cell_type": "code",
   "execution_count": null,
   "id": "28801f12",
   "metadata": {},
   "outputs": [],
   "source": [
    "#listlayers(thailandMaps)"
   ]
  },
  {
   "cell_type": "code",
   "execution_count": null,
   "id": "924a694f",
   "metadata": {},
   "outputs": [],
   "source": [
    "# countries=gpd.read_file(thailandMaps,layer='country')\n",
    "# cities=gpd.read_file(thailandMaps,layer='cities')\n",
    "# rivers=gpd.read_file(thailandMaps,layer='rivers')"
   ]
  },
  {
   "cell_type": "code",
   "execution_count": null,
   "id": "9f94ba62",
   "metadata": {},
   "outputs": [],
   "source": [
    "#base= countries.plot(facecolor='gainsboro')\n",
    "#cities.plot(ax=base, markersize=0.5, color='green') \n",
    "#rivers.plot(ax=base, linewidth=0.5)"
   ]
  },
  {
   "cell_type": "code",
   "execution_count": null,
   "id": "1da4e522",
   "metadata": {},
   "outputs": [],
   "source": []
  }
 ],
 "metadata": {
  "kernelspec": {
   "display_name": "Python 3 (ipykernel)",
   "language": "python",
   "name": "python3"
  },
  "language_info": {
   "codemirror_mode": {
    "name": "ipython",
    "version": 3
   },
   "file_extension": ".py",
   "mimetype": "text/x-python",
   "name": "python",
   "nbconvert_exporter": "python",
   "pygments_lexer": "ipython3",
   "version": "3.11.5"
  }
 },
 "nbformat": 4,
 "nbformat_minor": 5
}
